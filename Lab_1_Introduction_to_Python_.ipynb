{
  "nbformat": 4,
  "nbformat_minor": 0,
  "metadata": {
    "colab": {
      "provenance": [],
      "gpuType": "T4",
      "authorship_tag": "ABX9TyMtEQK/9d30tMWG0xgC3MsO",
      "include_colab_link": true
    },
    "kernelspec": {
      "name": "python3",
      "display_name": "Python 3"
    },
    "language_info": {
      "name": "python"
    }
  },
  "cells": [
    {
      "cell_type": "markdown",
      "metadata": {
        "id": "view-in-github",
        "colab_type": "text"
      },
      "source": [
        "<a href=\"https://colab.research.google.com/github/MirajMjn/AI_Collab_Repository/blob/main/Lab_1_Introduction_to_Python_.ipynb\" target=\"_parent\"><img src=\"https://colab.research.google.com/assets/colab-badge.svg\" alt=\"Open In Colab\"/></a>"
      ]
    },
    {
      "cell_type": "markdown",
      "source": [
        "# **Lab 1 Assignment : Introduction to basics of Python**"
      ],
      "metadata": {
        "id": "T1XmX6a10wjM"
      }
    },
    {
      "cell_type": "markdown",
      "source": [
        "## Q1. Write a program to find prime number with in a range using function."
      ],
      "metadata": {
        "id": "okasXQFdehXb"
      }
    },
    {
      "cell_type": "code",
      "source": [
        "def list_primes(l, u):\n",
        "\n",
        "    \"\"\"\n",
        "    list_primes(lower_limit, upper_limit) ;\n",
        "    lower_limit <= upper_limit :\n",
        "\n",
        "    The function returns a list containing all\n",
        "    prime numbers between lower and upper limits,\n",
        "    with both the limits included.\n",
        "\n",
        "    \"\"\"\n",
        "\n",
        "    primes = []\n",
        "    for i in range(l, u+1):\n",
        "\n",
        "        # 0 and 1 are neither prime nor composite\n",
        "        if i < 2 : continue\n",
        "\n",
        "        # assume it is prime.\n",
        "        status = 1\n",
        "\n",
        "        for j in range(2, (i//2)+1):\n",
        "            if i % j == 0:\n",
        "                status = 0\n",
        "                break\n",
        "\n",
        "        if status == 1 :\n",
        "            primes.append(i)\n",
        "\n",
        "    return primes"
      ],
      "metadata": {
        "id": "Ut2JJmI0Rvs5"
      },
      "execution_count": 20,
      "outputs": []
    },
    {
      "cell_type": "code",
      "source": [
        "lower = int(input('Enter the lower limit : '))\n",
        "upper = int(input('Enter the upper limit : '))\n",
        "primes = list_primes(lower, upper)\n",
        "\n",
        "print(primes)"
      ],
      "metadata": {
        "colab": {
          "base_uri": "https://localhost:8080/"
        },
        "id": "V5RTxXRae6Mh",
        "outputId": "4a17117c-199b-45cf-8161-0a2d668b7bdf"
      },
      "execution_count": 19,
      "outputs": [
        {
          "output_type": "stream",
          "name": "stdout",
          "text": [
            "Enter the lower limit : 0\n",
            "Enter the upper limit : 15\n",
            "[2, 3, 5, 7, 11, 13]\n"
          ]
        }
      ]
    },
    {
      "cell_type": "markdown",
      "source": [
        "## Q2. Write a program to check palindrome."
      ],
      "metadata": {
        "id": "IXjYDj8NfAfo"
      }
    },
    {
      "cell_type": "markdown",
      "source": [
        "For purely numbers :"
      ],
      "metadata": {
        "id": "CZ0BVszWm8GU"
      }
    },
    {
      "cell_type": "code",
      "source": [
        "def rev_num(n):\n",
        "    rev = 0\n",
        "    while(n > 0):\n",
        "        digit = n % 10\n",
        "        n =  n // 10\n",
        "        rev = rev*10 + digit\n",
        "    return rev"
      ],
      "metadata": {
        "id": "zghJZyWJcgYu"
      },
      "execution_count": 24,
      "outputs": []
    },
    {
      "cell_type": "code",
      "source": [
        "def check_palindrome(n):\n",
        "    return (rev_num(n) == n)"
      ],
      "metadata": {
        "id": "elgaRnbUfxZr"
      },
      "execution_count": 26,
      "outputs": []
    },
    {
      "cell_type": "code",
      "source": [
        "n = int(input(\"Enter n : \"))\n",
        "print(f\"Result = {check_palindrome(n)}\")"
      ],
      "metadata": {
        "colab": {
          "base_uri": "https://localhost:8080/"
        },
        "id": "shtMcQuzgwWs",
        "outputId": "b6b5254b-4037-486b-b408-4ba2b4f21d4f"
      },
      "execution_count": 29,
      "outputs": [
        {
          "output_type": "stream",
          "name": "stdout",
          "text": [
            "Enter n : 1234321\n",
            "Result = True\n"
          ]
        }
      ]
    },
    {
      "cell_type": "markdown",
      "source": [
        "In general:"
      ],
      "metadata": {
        "id": "SpoUQCP4nARL"
      }
    },
    {
      "cell_type": "code",
      "source": [
        "def rev(string):\n",
        "    return string[::-1]"
      ],
      "metadata": {
        "id": "svqnvjTynDnB"
      },
      "execution_count": null,
      "outputs": []
    },
    {
      "cell_type": "code",
      "source": [
        "def check_pal(string):\n",
        "    return (rev(string) == string)"
      ],
      "metadata": {
        "id": "Odc3PyeWqAtf"
      },
      "execution_count": 32,
      "outputs": []
    },
    {
      "cell_type": "code",
      "source": [
        "x = input(\"Input : \")\n",
        "print(f\"Result = {check_pal(x.lower())}\")"
      ],
      "metadata": {
        "colab": {
          "base_uri": "https://localhost:8080/"
        },
        "id": "QDxEYa0mqL9i",
        "outputId": "735a544e-c4b4-49e0-a224-7c7549a04178"
      },
      "execution_count": 36,
      "outputs": [
        {
          "output_type": "stream",
          "name": "stdout",
          "text": [
            "Input : Racecar\n",
            "Result = True\n"
          ]
        }
      ]
    },
    {
      "cell_type": "markdown",
      "source": [
        "## Q3. Write a program to generate n terms of the Fibonacci sequence."
      ],
      "metadata": {
        "id": "PhQdG6QeqkIh"
      }
    },
    {
      "cell_type": "code",
      "source": [
        "def gen_fibo_upto(n):\n",
        "    n1 = 0\n",
        "    n2 = 1\n",
        "    series = []\n",
        "    while (n > 0):\n",
        "        temp = n1 + n2\n",
        "        n1 = n2\n",
        "        n2 = temp\n",
        "\n",
        "        series.append(n1)\n",
        "        n -= 1\n",
        "\n",
        "    return series\n",
        ""
      ],
      "metadata": {
        "id": "6CJ0Cz7kqfYC"
      },
      "execution_count": 37,
      "outputs": []
    },
    {
      "cell_type": "code",
      "source": [
        "print(gen_fibo_upto(10))"
      ],
      "metadata": {
        "colab": {
          "base_uri": "https://localhost:8080/"
        },
        "id": "HYSxkbmowPrw",
        "outputId": "3d6fc451-2a66-4ca7-94a5-6242f9748f03"
      },
      "execution_count": 38,
      "outputs": [
        {
          "output_type": "stream",
          "name": "stdout",
          "text": [
            "[1, 1, 2, 3, 5, 8, 13, 21, 34, 55]\n"
          ]
        }
      ]
    },
    {
      "cell_type": "markdown",
      "source": [
        "## Q4. Create a number guessing game. Where you have to generate a random number in between 1 to 100 and user have to prompt a number for guess. if its high or low number let the user know and guide them through the process to guess correct number."
      ],
      "metadata": {
        "id": "8QNipx1ew55J"
      }
    },
    {
      "cell_type": "code",
      "source": [
        "from random import randint\n",
        "\n",
        "def game():\n",
        "    print(\"Lets play, guess the correct integer between 1 and 100\")\n",
        "    num = randint(1, 100)\n",
        "    count = 1\n",
        "    while (True):\n",
        "        guess = int(input(f\"Attempt {count}, Guess : \"))\n",
        "        if guess == num :\n",
        "            print(\"Hurrayy !!\")\n",
        "            break\n",
        "        else :\n",
        "            if guess > 100 or guess < 1:\n",
        "                print(\"Invalid Entry, try again\")\n",
        "            elif guess > num:\n",
        "                print(\"Guess lower\")\n",
        "            else :\n",
        "                print(\"Guess higher\")\n",
        "        count += 1\n",
        "\n",
        "    print(f\"Correct number guessed in {count} attempts\")\n",
        "\n",
        "game()"
      ],
      "metadata": {
        "colab": {
          "base_uri": "https://localhost:8080/"
        },
        "id": "94Vo2Ofqw_ro",
        "outputId": "b447d7f4-abf5-4e4c-f663-09ad01cbb503"
      },
      "execution_count": 41,
      "outputs": [
        {
          "output_type": "stream",
          "name": "stdout",
          "text": [
            "Lets play, guess the correct integer between 1 and 100\n",
            "Attempt 1, Guess : 34\n",
            "Guess higher\n",
            "Attempt 2, Guess : 78\n",
            "Guess lower\n",
            "Attempt 3, Guess : 64\n",
            "Guess lower\n",
            "Attempt 4, Guess : 48\n",
            "Guess higher\n",
            "Attempt 5, Guess : 50\n",
            "Guess higher\n",
            "Attempt 6, Guess : 55\n",
            "Guess higher\n",
            "Attempt 7, Guess : 60\n",
            "Hurrayy !!\n",
            "Correct number guessed in 7 attempts\n"
          ]
        }
      ]
    }
  ]
}